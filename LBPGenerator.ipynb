{
 "cells": [
  {
   "cell_type": "markdown",
   "metadata": {},
   "source": [
    "# Local Binary Pattern Generator :\n",
    "\n",
    "The following is the process to extract the Local Binary Pattern (LBP) from a 3 x 3 neighborhood. These individual LBPs represent the feature pattern at the pixel-level of the original image.\n",
    "\n",
    "Input -> Matrix of dimension 3 x 3\n",
    "Output -> Resultant Matrix after LBP processing"
   ]
  },
  {
   "cell_type": "code",
   "execution_count": 1,
   "metadata": {
    "collapsed": true
   },
   "outputs": [],
   "source": [
    "import numpy as np\n",
    "#Function for Printing 3x3 Matrices\n",
    "def printmat(matrix) :\n",
    "    for i in range(3): \n",
    "        for j in range(3): \n",
    "            print(matrix[i][j], end = \" \") \n",
    "        print() "
   ]
  },
  {
   "cell_type": "code",
   "execution_count": 2,
   "metadata": {},
   "outputs": [
    {
     "name": "stdout",
     "output_type": "stream",
     "text": [
      "Enter the entries row-wise:\n",
      "5\n",
      "9\n",
      "1\n",
      "4\n",
      "4\n",
      "6\n",
      "7\n",
      "2\n",
      "3\n"
     ]
    }
   ],
   "source": [
    "matrix = [] \n",
    "print(\"Enter the entries row-wise:\") \n",
    "  \n",
    "for i in range(3):\n",
    "    a =[] \n",
    "    for j in range(3):      \n",
    "         a.append(int(input())) \n",
    "    matrix.append(a) "
   ]
  },
  {
   "cell_type": "code",
   "execution_count": 7,
   "metadata": {},
   "outputs": [
    {
     "name": "stdout",
     "output_type": "stream",
     "text": [
      "Original Matrix :\n",
      "5 9 1 \n",
      "4 4 6 \n",
      "7 2 3 \n"
     ]
    }
   ],
   "source": [
    "print('Original Matrix :')\n",
    "printmat(matrix)"
   ]
  },
  {
   "cell_type": "code",
   "execution_count": 8,
   "metadata": {},
   "outputs": [
    {
     "name": "stdout",
     "output_type": "stream",
     "text": [
      "Mask :\n",
      "128 64 32 \n",
      "1 0 16 \n",
      "2 4 8 \n"
     ]
    }
   ],
   "source": [
    "#Pivot selected as the central element :\n",
    "pivot=matrix[1][1] \n",
    "\n",
    "mask=[[128,64,32],[1,0,16],[2,4,8]]\n",
    "print('Mask :')\n",
    "printmat(mask)"
   ]
  },
  {
   "cell_type": "code",
   "execution_count": 9,
   "metadata": {},
   "outputs": [
    {
     "name": "stdout",
     "output_type": "stream",
     "text": [
      "Binarized Matrix :\n",
      "1 1 0 \n",
      "1 1 1 \n",
      "1 0 0 \n"
     ]
    }
   ],
   "source": [
    "comp = np.zeros((3,3))\n",
    "comp = comp.astype(int)\n",
    "#Comparing each element with pivot element :\n",
    "for i in range(3):\n",
    "    for j in range(3):   \n",
    "        if matrix [i][j] >= pivot:\n",
    "            comp[i][j]=1\n",
    "        else:\n",
    "            comp[i][j]=0\n",
    "print('Binarized Matrix :')            \n",
    "printmat(comp)"
   ]
  },
  {
   "cell_type": "code",
   "execution_count": 10,
   "metadata": {},
   "outputs": [
    {
     "name": "stdout",
     "output_type": "stream",
     "text": [
      "On multiplying the mask with the binarized matrix :\n",
      "128 64 0 \n",
      "1 0 16 \n",
      "2 0 0 \n"
     ]
    }
   ],
   "source": [
    "result=comp*mask\n",
    "print('On multiplying the mask with the binarized matrix :')\n",
    "printmat(result)"
   ]
  },
  {
   "cell_type": "code",
   "execution_count": 14,
   "metadata": {},
   "outputs": [
    {
     "name": "stdout",
     "output_type": "stream",
     "text": [
      "The value of the pivot element would become :  211\n"
     ]
    }
   ],
   "source": [
    "pattern=result.sum()\n",
    "print('The value of the pivot element would become : ',pattern)"
   ]
  },
  {
   "cell_type": "code",
   "execution_count": 15,
   "metadata": {},
   "outputs": [
    {
     "name": "stdout",
     "output_type": "stream",
     "text": [
      "The original matrix after applying LBP becomes :\n",
      "5 9 1 \n",
      "4 211 6 \n",
      "7 2 3 \n"
     ]
    }
   ],
   "source": [
    "matrix[1][1]=pattern\n",
    "print('The original matrix after applying LBP becomes :')\n",
    "printmat(matrix)"
   ]
  }
 ],
 "metadata": {
  "kernelspec": {
   "display_name": "Python 3",
   "language": "python",
   "name": "python3"
  },
  "language_info": {
   "codemirror_mode": {
    "name": "ipython",
    "version": 3
   },
   "file_extension": ".py",
   "mimetype": "text/x-python",
   "name": "python",
   "nbconvert_exporter": "python",
   "pygments_lexer": "ipython3",
   "version": "3.6.3"
  }
 },
 "nbformat": 4,
 "nbformat_minor": 2
}
